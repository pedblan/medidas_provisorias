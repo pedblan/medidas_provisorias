{
 "cells": [
  {
   "metadata": {},
   "cell_type": "markdown",
   "source": "### Scraping",
   "id": "5082239d0ca971b4"
  },
  {
   "metadata": {
    "ExecuteTime": {
     "end_time": "2024-07-18T17:39:49.912982Z",
     "start_time": "2024-07-18T17:39:49.906377Z"
    }
   },
   "cell_type": "code",
   "source": [
    "#### Importação das bibliotecas necessárias\n",
    "\n",
    "from selenium import webdriver\n",
    "from selenium.webdriver.common.by import By\n",
    "from selenium.webdriver.common.keys import Keys\n",
    "from selenium.webdriver.support.ui import WebDriverWait\n",
    "from selenium.webdriver.support import expected_conditions as EC\n",
    "from selenium.common.exceptions import NoSuchElementException\n",
    "import re\n",
    "import time, random\n",
    "import json\n"
   ],
   "id": "93c212f4c3f60c87",
   "outputs": [],
   "execution_count": 62
  },
  {
   "metadata": {
    "ExecuteTime": {
     "end_time": "2024-07-18T17:39:54.828271Z",
     "start_time": "2024-07-18T17:39:52.853855Z"
    }
   },
   "cell_type": "code",
   "source": [
    "#### Configurações do webdriver\n",
    "\n",
    "driver = webdriver.Chrome()\n",
    "driver.implicitly_wait(10)"
   ],
   "id": "417393511c3cc2aa",
   "outputs": [],
   "execution_count": 63
  },
  {
   "metadata": {
    "ExecuteTime": {
     "end_time": "2024-07-18T13:51:40.960603Z",
     "start_time": "2024-07-18T13:51:40.315683Z"
    }
   },
   "cell_type": "code",
   "source": [
    "#### Acesso à página do Senado\n",
    "\n",
    "driver.get('http://www.senado.leg.br')"
   ],
   "id": "a23dc377e65c37ea",
   "outputs": [],
   "execution_count": 3
  },
  {
   "metadata": {},
   "cell_type": "markdown",
   "source": "###### - Operações manuais na janela do webdriver: pesquisar por medidas provisórias apresentadas entre 01/01/2014 e 04/07/2024",
   "id": "c4f76ba4c5a7c64b"
  },
  {
   "metadata": {
    "ExecuteTime": {
     "end_time": "2024-07-17T13:51:19.001158Z",
     "start_time": "2024-07-17T13:47:08.312263Z"
    }
   },
   "cell_type": "code",
   "source": [
    "#### Captura dos links de cada uma das MPs pesquisadas\n",
    "links = []\n",
    "counter = 0\n",
    "while True:\n",
    "    time.sleep(1 + random.random())\n",
    "    resultados = driver.find_elements(By.PARTIAL_LINK_TEXT, \"MPV\")\n",
    "    for resultado in resultados:\n",
    "        dict = {}\n",
    "        dict['URL'] = resultado.get_attribute('href')\n",
    "        dict['Scraping'] = False\n",
    "        links.append(dict)\n",
    "        time.sleep(1 + random.random())\n",
    "    next_button = driver.find_element(By.PARTIAL_LINK_TEXT, \"Próxima\")\n",
    "    time.sleep(1 + random.random())\n",
    "    try:\n",
    "        next_button.click()\n",
    "        counter += 1\n",
    "        print(f\"Página {counter} concluída.\")\n",
    "    except NoSuchElementException:\n",
    "        print(f\"Pesquisa por links concluída. Verificadas {counter} páginas.\")\n",
    "\n",
    "#### Salva links no formato json\n",
    "with open('json/links.json', 'w', encoding='utf-8') as arquivo_json:\n",
    "    json.dump(links, arquivo_json, ensure_ascii=False, indent=4)\n"
   ],
   "id": "790c73fa62c72573",
   "outputs": [
    {
     "name": "stdout",
     "output_type": "stream",
     "text": [
      "Página 1 concluída.\n",
      "Página 2 concluída.\n",
      "Página 3 concluída.\n",
      "Página 4 concluída.\n",
      "Página 5 concluída.\n",
      "Página 6 concluída.\n",
      "Página 7 concluída.\n",
      "Página 8 concluída.\n",
      "Página 9 concluída.\n",
      "Página 10 concluída.\n",
      "Página 11 concluída.\n",
      "Página 12 concluída.\n",
      "Página 13 concluída.\n"
     ]
    },
    {
     "ename": "KeyboardInterrupt",
     "evalue": "",
     "output_type": "error",
     "traceback": [
      "\u001B[0;31m---------------------------------------------------------------------------\u001B[0m",
      "\u001B[0;31mKeyboardInterrupt\u001B[0m                         Traceback (most recent call last)",
      "Cell \u001B[0;32mIn[27], line 12\u001B[0m\n\u001B[1;32m     10\u001B[0m     \u001B[38;5;28mdict\u001B[39m[\u001B[38;5;124m'\u001B[39m\u001B[38;5;124mScraping\u001B[39m\u001B[38;5;124m'\u001B[39m] \u001B[38;5;241m=\u001B[39m \u001B[38;5;28;01mFalse\u001B[39;00m\n\u001B[1;32m     11\u001B[0m     links\u001B[38;5;241m.\u001B[39mappend(\u001B[38;5;28mdict\u001B[39m)\n\u001B[0;32m---> 12\u001B[0m     \u001B[43mtime\u001B[49m\u001B[38;5;241;43m.\u001B[39;49m\u001B[43msleep\u001B[49m\u001B[43m(\u001B[49m\u001B[38;5;241;43m1\u001B[39;49m\u001B[43m \u001B[49m\u001B[38;5;241;43m+\u001B[39;49m\u001B[43m \u001B[49m\u001B[43mrandom\u001B[49m\u001B[38;5;241;43m.\u001B[39;49m\u001B[43mrandom\u001B[49m\u001B[43m(\u001B[49m\u001B[43m)\u001B[49m\u001B[43m)\u001B[49m\n\u001B[1;32m     13\u001B[0m next_button \u001B[38;5;241m=\u001B[39m driver\u001B[38;5;241m.\u001B[39mfind_element(By\u001B[38;5;241m.\u001B[39mPARTIAL_LINK_TEXT, \u001B[38;5;124m\"\u001B[39m\u001B[38;5;124mPróxima\u001B[39m\u001B[38;5;124m\"\u001B[39m)\n\u001B[1;32m     14\u001B[0m time\u001B[38;5;241m.\u001B[39msleep(\u001B[38;5;241m1\u001B[39m \u001B[38;5;241m+\u001B[39m random\u001B[38;5;241m.\u001B[39mrandom())\n",
      "\u001B[0;31mKeyboardInterrupt\u001B[0m: "
     ]
    }
   ],
   "execution_count": 27
  },
  {
   "metadata": {
    "ExecuteTime": {
     "end_time": "2024-07-18T19:19:05.287802Z",
     "start_time": "2024-07-18T17:40:00.458208Z"
    }
   },
   "cell_type": "code",
   "source": [
    "#### Faz scraping das MPs de cada link\n",
    "from src import scp\n",
    "with open('json/links.json', 'r', encoding='utf-8') as arquivo_json: # Carrega links salvos\n",
    "    links = json.load(arquivo_json)\n",
    "dicts = []\n",
    "counter = 0\n",
    "for link in links:\n",
    "    counter += 1\n",
    "    print(f\"Processando link {counter}/{len(links)}\")\n",
    "    if link['Scraping'] != True:\n",
    "        dicts.append(scp.scraping(link, driver, random, time, By, re, NoSuchElementException))\n",
    "        link['Scraping'] = True\n",
    "        with open('json/mps.json', 'w') as arquivo_json:\n",
    "            json.dump(dicts, arquivo_json, ensure_ascii=False, indent=4)\n",
    "        with open('json/links.json', 'w') as arquivo_json:\n",
    "            json.dump(links, arquivo_json, ensure_ascii=False, indent=4)\n",
    "        print(\"Feito.\")\n",
    "    else:\n",
    "        print(f\"Link {counter}/{len(links)} já processado.\")\n",
    "        continue\n",
    "print(\"Operação concluída.\")"
   ],
   "id": "5b35a8140087ea10",
   "outputs": [],
   "execution_count": 64
  },
  {
   "metadata": {
    "ExecuteTime": {
     "end_time": "2024-07-18T19:19:05.301714Z",
     "start_time": "2024-07-18T19:19:05.291758Z"
    }
   },
   "cell_type": "code",
   "source": "len(links) == len(dicts)",
   "id": "b79b4447547f8aad",
   "outputs": [
    {
     "data": {
      "text/plain": [
       "True"
      ]
     },
     "execution_count": 65,
     "metadata": {},
     "output_type": "execute_result"
    }
   ],
   "execution_count": 65
  },
  {
   "metadata": {},
   "cell_type": "markdown",
   "source": "#### Análise",
   "id": "5de86b8acc1ba87a"
  },
  {
   "metadata": {
    "ExecuteTime": {
     "end_time": "2024-07-18T19:20:18.752466Z",
     "start_time": "2024-07-18T19:20:18.736791Z"
    }
   },
   "cell_type": "code",
   "source": [
    "# Importa biblioteca pandas\n",
    "import pandas as pd"
   ],
   "id": "73c979a2044c6d92",
   "outputs": [],
   "execution_count": 66
  },
  {
   "metadata": {
    "ExecuteTime": {
     "end_time": "2024-07-18T19:20:20.802499Z",
     "start_time": "2024-07-18T19:20:20.761372Z"
    }
   },
   "cell_type": "code",
   "source": [
    "# Cria dataframe de MPs\n",
    "mps = pd.read_json(\"json/mps.json\")"
   ],
   "id": "a13ebbd0bd2bdcc4",
   "outputs": [],
   "execution_count": 67
  },
  {
   "metadata": {
    "ExecuteTime": {
     "end_time": "2024-07-18T19:20:22.815639Z",
     "start_time": "2024-07-18T19:20:22.809009Z"
    }
   },
   "cell_type": "code",
   "source": [
    "# Exibe colunas\n",
    "mps.columns"
   ],
   "id": "b0c7b68b1f04edf0",
   "outputs": [
    {
     "data": {
      "text/plain": [
       "Index(['Proposição', 'URL', 'Ementa', 'Indexação', 'Norma gerada',\n",
       "       'Audiências públicas realizadas', 'Quantidade de emendas'],\n",
       "      dtype='object')"
      ]
     },
     "execution_count": 68,
     "metadata": {},
     "output_type": "execute_result"
    }
   ],
   "execution_count": 68
  },
  {
   "metadata": {
    "ExecuteTime": {
     "end_time": "2024-07-18T19:22:21.585324Z",
     "start_time": "2024-07-18T19:22:21.567694Z"
    }
   },
   "cell_type": "code",
   "source": [
    "# Cria uma nova coluna 'Número' extraindo o ano da coluna 'Proposição'\n",
    "mps['Número'] = mps['Proposição'].str.extract(r'(\\d{4})')\n",
    "mps['Ano'] = mps['Proposição'].str[-4:]\n"
   ],
   "id": "ab517569aa8a6f7f",
   "outputs": [],
   "execution_count": 72
  },
  {
   "metadata": {
    "ExecuteTime": {
     "end_time": "2024-07-18T19:22:17.564535Z",
     "start_time": "2024-07-18T19:22:17.545247Z"
    }
   },
   "cell_type": "code",
   "source": [
    "# Filtra as MPs em que o número de audiências públicas é superior a zero\n",
    "mps_com_audiencias = mps[mps['Audiências públicas realizadas'] > 0]\n",
    "# Seleciona apenas as colunas de interesse\n",
    "resultado = mps_com_audiencias[['Proposição', 'Número', 'Ano', 'Audiências públicas realizadas', 'URL']]\n",
    "# Mostra o resultado\n",
    "resultado"
   ],
   "id": "f05be572b3dbdf9a",
   "outputs": [
    {
     "data": {
      "text/plain": [
       "                             Proposição Número   Ano  \\\n",
       "36   Medida Provisória n° 1202, de 2023   1202  2023   \n",
       "64   Medida Provisória n° 1174, de 2023   1174  2023   \n",
       "65   Medida Provisória n° 1173, de 2023   1173  2023   \n",
       "66   Medida Provisória n° 1172, de 2023   1172  2023   \n",
       "71   Medida Provisória n° 1167, de 2023   1167  2023   \n",
       "73   Medida Provisória n° 1165, de 2023   1165  2023   \n",
       "74   Medida Provisória n° 1164, de 2023   1164  2023   \n",
       "76   Medida Provisória n° 1162, de 2023   1162  2023   \n",
       "84   Medida Provisória n° 1154, de 2023   1154  2023   \n",
       "328   Medida Provisória n° 910, de 2019   2019  2019   \n",
       "330   Medida Provisória n° 908, de 2019   2019  2019   \n",
       "331   Medida Provisória n° 907, de 2019   2019  2019   \n",
       "333   Medida Provisória n° 905, de 2019   2019  2019   \n",
       "417   Medida Provisória n° 821, de 2018   2018  2018   \n",
       "420   Medida Provisória n° 818, de 2018   2018  2018   \n",
       "424   Medida Provisória n° 814, de 2017   2017  2017   \n",
       "426   Medida Provisória n° 812, de 2017   2017  2017   \n",
       "427   Medida Provisória n° 811, de 2017   2017  2017   \n",
       "428   Medida Provisória n° 810, de 2017   2017  2017   \n",
       "429   Medida Provisória n° 809, de 2017   2017  2017   \n",
       "445   Medida Provisória n° 793, de 2017   2017  2017   \n",
       "487   Medida Provisória n° 751, de 2016   2016  2016   \n",
       "520   Medida Provisória n° 718, de 2016   2016  2016   \n",
       "524   Medida Provisória n° 714, de 2016   2016  2016   \n",
       "526   Medida Provisória n° 712, de 2016   2016  2016   \n",
       "530   Medida Provisória n° 708, de 2015   2015  2015   \n",
       "\n",
       "     Audiências públicas realizadas  \\\n",
       "36                                1   \n",
       "64                                2   \n",
       "65                                2   \n",
       "66                                1   \n",
       "71                                1   \n",
       "73                                4   \n",
       "74                                2   \n",
       "76                                5   \n",
       "84                                1   \n",
       "328                               4   \n",
       "330                               3   \n",
       "331                               2   \n",
       "333                               5   \n",
       "417                               2   \n",
       "420                               1   \n",
       "424                               3   \n",
       "426                               1   \n",
       "427                               2   \n",
       "428                               3   \n",
       "429                               1   \n",
       "445                               2   \n",
       "487                               2   \n",
       "520                               1   \n",
       "524                               2   \n",
       "526                               4   \n",
       "530                               1   \n",
       "\n",
       "                                                   URL  \n",
       "36   https://www.congressonacional.leg.br/materias/...  \n",
       "64   https://www.congressonacional.leg.br/materias/...  \n",
       "65   https://www.congressonacional.leg.br/materias/...  \n",
       "66   https://www.congressonacional.leg.br/materias/...  \n",
       "71   https://www.congressonacional.leg.br/materias/...  \n",
       "73   https://www.congressonacional.leg.br/materias/...  \n",
       "74   https://www.congressonacional.leg.br/materias/...  \n",
       "76   https://www.congressonacional.leg.br/materias/...  \n",
       "84   https://www.congressonacional.leg.br/materias/...  \n",
       "328  https://www.congressonacional.leg.br/materias/...  \n",
       "330  https://www.congressonacional.leg.br/materias/...  \n",
       "331  https://www.congressonacional.leg.br/materias/...  \n",
       "333  https://www.congressonacional.leg.br/materias/...  \n",
       "417  https://www.congressonacional.leg.br/materias/...  \n",
       "420  https://www.congressonacional.leg.br/materias/...  \n",
       "424  https://www.congressonacional.leg.br/materias/...  \n",
       "426  https://www.congressonacional.leg.br/materias/...  \n",
       "427  https://www.congressonacional.leg.br/materias/...  \n",
       "428  https://www.congressonacional.leg.br/materias/...  \n",
       "429  https://www.congressonacional.leg.br/materias/...  \n",
       "445  https://www.congressonacional.leg.br/materias/...  \n",
       "487  https://www.congressonacional.leg.br/materias/...  \n",
       "520  https://www.congressonacional.leg.br/materias/...  \n",
       "524  https://www.congressonacional.leg.br/materias/...  \n",
       "526  https://www.congressonacional.leg.br/materias/...  \n",
       "530  https://www.congressonacional.leg.br/materias/...  "
      ],
      "text/html": [
       "<div>\n",
       "<style scoped>\n",
       "    .dataframe tbody tr th:only-of-type {\n",
       "        vertical-align: middle;\n",
       "    }\n",
       "\n",
       "    .dataframe tbody tr th {\n",
       "        vertical-align: top;\n",
       "    }\n",
       "\n",
       "    .dataframe thead th {\n",
       "        text-align: right;\n",
       "    }\n",
       "</style>\n",
       "<table border=\"1\" class=\"dataframe\">\n",
       "  <thead>\n",
       "    <tr style=\"text-align: right;\">\n",
       "      <th></th>\n",
       "      <th>Proposição</th>\n",
       "      <th>Número</th>\n",
       "      <th>Ano</th>\n",
       "      <th>Audiências públicas realizadas</th>\n",
       "      <th>URL</th>\n",
       "    </tr>\n",
       "  </thead>\n",
       "  <tbody>\n",
       "    <tr>\n",
       "      <th>36</th>\n",
       "      <td>Medida Provisória n° 1202, de 2023</td>\n",
       "      <td>1202</td>\n",
       "      <td>2023</td>\n",
       "      <td>1</td>\n",
       "      <td>https://www.congressonacional.leg.br/materias/...</td>\n",
       "    </tr>\n",
       "    <tr>\n",
       "      <th>64</th>\n",
       "      <td>Medida Provisória n° 1174, de 2023</td>\n",
       "      <td>1174</td>\n",
       "      <td>2023</td>\n",
       "      <td>2</td>\n",
       "      <td>https://www.congressonacional.leg.br/materias/...</td>\n",
       "    </tr>\n",
       "    <tr>\n",
       "      <th>65</th>\n",
       "      <td>Medida Provisória n° 1173, de 2023</td>\n",
       "      <td>1173</td>\n",
       "      <td>2023</td>\n",
       "      <td>2</td>\n",
       "      <td>https://www.congressonacional.leg.br/materias/...</td>\n",
       "    </tr>\n",
       "    <tr>\n",
       "      <th>66</th>\n",
       "      <td>Medida Provisória n° 1172, de 2023</td>\n",
       "      <td>1172</td>\n",
       "      <td>2023</td>\n",
       "      <td>1</td>\n",
       "      <td>https://www.congressonacional.leg.br/materias/...</td>\n",
       "    </tr>\n",
       "    <tr>\n",
       "      <th>71</th>\n",
       "      <td>Medida Provisória n° 1167, de 2023</td>\n",
       "      <td>1167</td>\n",
       "      <td>2023</td>\n",
       "      <td>1</td>\n",
       "      <td>https://www.congressonacional.leg.br/materias/...</td>\n",
       "    </tr>\n",
       "    <tr>\n",
       "      <th>73</th>\n",
       "      <td>Medida Provisória n° 1165, de 2023</td>\n",
       "      <td>1165</td>\n",
       "      <td>2023</td>\n",
       "      <td>4</td>\n",
       "      <td>https://www.congressonacional.leg.br/materias/...</td>\n",
       "    </tr>\n",
       "    <tr>\n",
       "      <th>74</th>\n",
       "      <td>Medida Provisória n° 1164, de 2023</td>\n",
       "      <td>1164</td>\n",
       "      <td>2023</td>\n",
       "      <td>2</td>\n",
       "      <td>https://www.congressonacional.leg.br/materias/...</td>\n",
       "    </tr>\n",
       "    <tr>\n",
       "      <th>76</th>\n",
       "      <td>Medida Provisória n° 1162, de 2023</td>\n",
       "      <td>1162</td>\n",
       "      <td>2023</td>\n",
       "      <td>5</td>\n",
       "      <td>https://www.congressonacional.leg.br/materias/...</td>\n",
       "    </tr>\n",
       "    <tr>\n",
       "      <th>84</th>\n",
       "      <td>Medida Provisória n° 1154, de 2023</td>\n",
       "      <td>1154</td>\n",
       "      <td>2023</td>\n",
       "      <td>1</td>\n",
       "      <td>https://www.congressonacional.leg.br/materias/...</td>\n",
       "    </tr>\n",
       "    <tr>\n",
       "      <th>328</th>\n",
       "      <td>Medida Provisória n° 910, de 2019</td>\n",
       "      <td>2019</td>\n",
       "      <td>2019</td>\n",
       "      <td>4</td>\n",
       "      <td>https://www.congressonacional.leg.br/materias/...</td>\n",
       "    </tr>\n",
       "    <tr>\n",
       "      <th>330</th>\n",
       "      <td>Medida Provisória n° 908, de 2019</td>\n",
       "      <td>2019</td>\n",
       "      <td>2019</td>\n",
       "      <td>3</td>\n",
       "      <td>https://www.congressonacional.leg.br/materias/...</td>\n",
       "    </tr>\n",
       "    <tr>\n",
       "      <th>331</th>\n",
       "      <td>Medida Provisória n° 907, de 2019</td>\n",
       "      <td>2019</td>\n",
       "      <td>2019</td>\n",
       "      <td>2</td>\n",
       "      <td>https://www.congressonacional.leg.br/materias/...</td>\n",
       "    </tr>\n",
       "    <tr>\n",
       "      <th>333</th>\n",
       "      <td>Medida Provisória n° 905, de 2019</td>\n",
       "      <td>2019</td>\n",
       "      <td>2019</td>\n",
       "      <td>5</td>\n",
       "      <td>https://www.congressonacional.leg.br/materias/...</td>\n",
       "    </tr>\n",
       "    <tr>\n",
       "      <th>417</th>\n",
       "      <td>Medida Provisória n° 821, de 2018</td>\n",
       "      <td>2018</td>\n",
       "      <td>2018</td>\n",
       "      <td>2</td>\n",
       "      <td>https://www.congressonacional.leg.br/materias/...</td>\n",
       "    </tr>\n",
       "    <tr>\n",
       "      <th>420</th>\n",
       "      <td>Medida Provisória n° 818, de 2018</td>\n",
       "      <td>2018</td>\n",
       "      <td>2018</td>\n",
       "      <td>1</td>\n",
       "      <td>https://www.congressonacional.leg.br/materias/...</td>\n",
       "    </tr>\n",
       "    <tr>\n",
       "      <th>424</th>\n",
       "      <td>Medida Provisória n° 814, de 2017</td>\n",
       "      <td>2017</td>\n",
       "      <td>2017</td>\n",
       "      <td>3</td>\n",
       "      <td>https://www.congressonacional.leg.br/materias/...</td>\n",
       "    </tr>\n",
       "    <tr>\n",
       "      <th>426</th>\n",
       "      <td>Medida Provisória n° 812, de 2017</td>\n",
       "      <td>2017</td>\n",
       "      <td>2017</td>\n",
       "      <td>1</td>\n",
       "      <td>https://www.congressonacional.leg.br/materias/...</td>\n",
       "    </tr>\n",
       "    <tr>\n",
       "      <th>427</th>\n",
       "      <td>Medida Provisória n° 811, de 2017</td>\n",
       "      <td>2017</td>\n",
       "      <td>2017</td>\n",
       "      <td>2</td>\n",
       "      <td>https://www.congressonacional.leg.br/materias/...</td>\n",
       "    </tr>\n",
       "    <tr>\n",
       "      <th>428</th>\n",
       "      <td>Medida Provisória n° 810, de 2017</td>\n",
       "      <td>2017</td>\n",
       "      <td>2017</td>\n",
       "      <td>3</td>\n",
       "      <td>https://www.congressonacional.leg.br/materias/...</td>\n",
       "    </tr>\n",
       "    <tr>\n",
       "      <th>429</th>\n",
       "      <td>Medida Provisória n° 809, de 2017</td>\n",
       "      <td>2017</td>\n",
       "      <td>2017</td>\n",
       "      <td>1</td>\n",
       "      <td>https://www.congressonacional.leg.br/materias/...</td>\n",
       "    </tr>\n",
       "    <tr>\n",
       "      <th>445</th>\n",
       "      <td>Medida Provisória n° 793, de 2017</td>\n",
       "      <td>2017</td>\n",
       "      <td>2017</td>\n",
       "      <td>2</td>\n",
       "      <td>https://www.congressonacional.leg.br/materias/...</td>\n",
       "    </tr>\n",
       "    <tr>\n",
       "      <th>487</th>\n",
       "      <td>Medida Provisória n° 751, de 2016</td>\n",
       "      <td>2016</td>\n",
       "      <td>2016</td>\n",
       "      <td>2</td>\n",
       "      <td>https://www.congressonacional.leg.br/materias/...</td>\n",
       "    </tr>\n",
       "    <tr>\n",
       "      <th>520</th>\n",
       "      <td>Medida Provisória n° 718, de 2016</td>\n",
       "      <td>2016</td>\n",
       "      <td>2016</td>\n",
       "      <td>1</td>\n",
       "      <td>https://www.congressonacional.leg.br/materias/...</td>\n",
       "    </tr>\n",
       "    <tr>\n",
       "      <th>524</th>\n",
       "      <td>Medida Provisória n° 714, de 2016</td>\n",
       "      <td>2016</td>\n",
       "      <td>2016</td>\n",
       "      <td>2</td>\n",
       "      <td>https://www.congressonacional.leg.br/materias/...</td>\n",
       "    </tr>\n",
       "    <tr>\n",
       "      <th>526</th>\n",
       "      <td>Medida Provisória n° 712, de 2016</td>\n",
       "      <td>2016</td>\n",
       "      <td>2016</td>\n",
       "      <td>4</td>\n",
       "      <td>https://www.congressonacional.leg.br/materias/...</td>\n",
       "    </tr>\n",
       "    <tr>\n",
       "      <th>530</th>\n",
       "      <td>Medida Provisória n° 708, de 2015</td>\n",
       "      <td>2015</td>\n",
       "      <td>2015</td>\n",
       "      <td>1</td>\n",
       "      <td>https://www.congressonacional.leg.br/materias/...</td>\n",
       "    </tr>\n",
       "  </tbody>\n",
       "</table>\n",
       "</div>"
      ]
     },
     "execution_count": 71,
     "metadata": {},
     "output_type": "execute_result"
    }
   ],
   "execution_count": 71
  },
  {
   "metadata": {
    "ExecuteTime": {
     "end_time": "2024-07-18T19:29:06.719928Z",
     "start_time": "2024-07-18T19:29:06.713969Z"
    }
   },
   "cell_type": "code",
   "source": "len(resultado)/len(links)",
   "id": "668fa6f37eb578d1",
   "outputs": [
    {
     "data": {
      "text/plain": [
       "0.04326123128119801"
      ]
     },
     "execution_count": 74,
     "metadata": {},
     "output_type": "execute_result"
    }
   ],
   "execution_count": 74
  },
  {
   "metadata": {},
   "cell_type": "code",
   "outputs": [],
   "execution_count": null,
   "source": "",
   "id": "df7e66885439da08"
  }
 ],
 "metadata": {
  "kernelspec": {
   "display_name": "Python 3",
   "language": "python",
   "name": "python3"
  },
  "language_info": {
   "codemirror_mode": {
    "name": "ipython",
    "version": 2
   },
   "file_extension": ".py",
   "mimetype": "text/x-python",
   "name": "python",
   "nbconvert_exporter": "python",
   "pygments_lexer": "ipython2",
   "version": "2.7.6"
  }
 },
 "nbformat": 4,
 "nbformat_minor": 5
}
